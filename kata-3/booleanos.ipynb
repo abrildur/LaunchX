{
 "cells": [
  {
   "cell_type": "markdown",
   "metadata": {},
   "source": [
    "## Módulo 3 - Usar lógica booleana\n",
    "Abril Ureña"
   ]
  },
  {
   "cell_type": "markdown",
   "metadata": {},
   "source": [
    "## Ejercico logica booleana - if, else, elif"
   ]
  },
  {
   "cell_type": "markdown",
   "metadata": {},
   "source": [
    "Para este ejercicio, escribirás una lógica condicional que imprima una advertencia si un asteroide se acerca a la Tierra demasiado rápido. La velocidad del asteroide varía dependiendo de lo cerca que esté del sol, y cualquier velocidad superior a 25 kilómetros por segundo (km/s) merece una advertencia.\n",
    "\n",
    "Un asteroide se acerca, y viaja a una velocidad de 49 km/s."
   ]
  },
  {
   "cell_type": "code",
   "execution_count": 4,
   "metadata": {},
   "outputs": [
    {
     "name": "stdout",
     "output_type": "stream",
     "text": [
      "hay un asteroide muy cerca, capitan\n"
     ]
    }
   ],
   "source": [
    "# Añadir el código necesario para crear una variable que guarde la velocidad del asteroide.\n",
    "# Escribe una expresión de prueba para calcular si necesita una advertencia.\n",
    "# Agregue las instrucciones que se ejecutarán si la expresión de prueba es true o false.\n",
    "\n",
    "dist= 70\n",
    "vel= 49\n",
    "t= 1\n",
    "\n",
    "if vel >= 25:\n",
    "    print(\"hay un asteroide muy cerca, capitan\")\n",
    "else:\n",
    "    print(\"no hay peligro capitan\")\n",
    "\n"
   ]
  },
  {
   "cell_type": "markdown",
   "metadata": {},
   "source": [
    "Si un asteroide entra en la atmósfera de la Tierra a una velocidad mayor o igual a 20 km/s, a veces produce un rayo de luz que se puede ver desde la Tierra. Escribe la lógica condicional que usa declaraciones if, else, y elif para alertar a las personas de todo el mundo que deben buscar un asteroide en el cielo. ¡Hay uno que se dirige a la tierra ahora a una velocidad de 19 km/s!"
   ]
  },
  {
   "cell_type": "code",
   "execution_count": 8,
   "metadata": {},
   "outputs": [
    {
     "name": "stdout",
     "output_type": "stream",
     "text": [
      "Hay un asteroide muy cerca pero no es probable que se vea un rayo de luz en la tierra.\n"
     ]
    }
   ],
   "source": [
    "# Agrega el código para crear una variable para un asteroide que viaja a 19 km/s\n",
    "# Escribe varias expresiones de prueba para determinar si puedes ver el rayo de luz desde la tierra\n",
    "# Agrega las instrucciones que se ejecutarán si las expresiones de prueba son True o False\n",
    "\n",
    "vel = 19\n",
    "\n",
    "if vel >= 20:\n",
    "    print(\"¡Preparense, es posible que se presente un rayo de luz debido a un asteroide que estara pasando cerca en la atmosfera de la Tierra!\")\n",
    "elif vel <= 20 and vel >=0:\n",
    "    print(\"Hay un asteroide muy cerca pero no es probable que se vea un rayo de luz en la tierra.\")\n",
    "else:\n",
    "    print(\"no hay ningun asteroide cerca de la tierra\")"
   ]
  },
  {
   "cell_type": "markdown",
   "metadata": {},
   "source": [
    "### Ejercicio: Uso de operadores and y or\n",
    "En el ejercicio anterior, trabajó con sentencias if, else, y elif para escribir programas con lógica condicional compleja. Para crear expresiones booleanas aún más interesantes, puede usar los operadores and y or en Python.\n",
    "Las expresiones and son sólo si ambas subexpresiones son verdaderas.\n",
    "\n",
    "    expresión1 and expresión2\n",
    "\n",
    "Las expresiones or son True si al menos una subexpresión es verdadera.\n",
    "\n",
    "    expresión1 or expresión2\n",
    "\n",
    "En este ejercicio, aprenderás información más matizada sobre cuándo los asteroides representan un peligro para la Tierra, y utilizarás esa información para mejorar nuestro sistema de advertencia. Aquí está la nueva información que necesitas saber:\n",
    "\n",
    "*Los asteroides de menos de 25 metros en su dimensión más grande probablemente se quemarán a medida que entren en la atmósfera de la Tierra.\n",
    "\n",
    "    Si una pieza de un asteroide que es más grande que 25 metros pero más pequeña que 1000 metros golpeara la Tierra, causaría mucho daño.\n",
    "\n",
    "También discutimos en el ejercicio anterior que:\n",
    "\n",
    "    - La velocidad del asteroide varía en función de lo cerca que esté del sol, y cualquier velocidad superior a 25 kilómetros por segundo (km/s) merece una advertencia.\n",
    "    - Si un asteroide entra en la atmósfera de la Tierra a una velocidad mayor o igual a 20 km/s, a veces produce un rayo de luz que se puede ver desde la Tierra.\n",
    "\n",
    "Usando toda esta información, escribe un programa que emita la advertencia o información correcta a la gente de la Tierra, según la velocidad y el tamaño de un asteroide. Utiliza instrucciones if, else, y elif, así como los operadores and y or."
   ]
  },
  {
   "cell_type": "code",
   "execution_count": 3,
   "metadata": {},
   "outputs": [],
   "source": [
    "# Agrega el código para crear nuevas variables para la velocidad y el tamaño del asteroide\n",
    "# Para probar el código, prueba con varias velocidades y tamaños\n",
    "# Escribe varias expresiones de prueba o combinaciones de expresiones de prueba para determinar qué mensaje se debe enviar a Tierra."
   ]
  },
  {
   "cell_type": "code",
   "execution_count": 11,
   "metadata": {},
   "outputs": [
    {
     "name": "stdout",
     "output_type": "stream",
     "text": [
      "la velocidad del asteroide es: 80km/s\n",
      "Ayudaaaa, hay un asteroide muy cerca y va muy rapido, socorrooo\n",
      "la dimension del asteroide es: 40mts\n",
      "AUXILIO, EL ASTEROIDE ES MUY GRANDE, SOCORROOOOOO\n"
     ]
    }
   ],
   "source": [
    "d= 40\n",
    "v= 80\n",
    "#velocidad del asteroide\n",
    "if v > 25:\n",
    "    print(\"la velocidad del asteroide es: \" + str(v) + \"km/s\")\n",
    "    print(\"Ayudaaaa, hay un asteroide muy cerca y va muy rapido, socorrooo\")\n",
    "elif v == 25:\n",
    "    print(\"Hay un asteroide cuya velocidad es 25 km/s, esten preparados\")\n",
    "elif v >= 20 and v <=24:\n",
    "    print(\"la velocidad del asteroide es: \" + str(v) + \"km/s\")\n",
    "    print(\"Es probable que veamos un rayo de luz en la tierra debido a un asteroide que pasara muy cerca\")\n",
    "else: \n",
    "    print(\"no hay peligro, banda.\")\n",
    "\n",
    "#dimensiones del asteroide\n",
    "\n",
    "if d <= 25 and d >= 1:\n",
    "    print(\"la dimension del asteroide es: \" + str(d) + \"mts\")\n",
    "    print(\"Hay un asteroide que posiblemente se queme al entrar a la tierra.\")\n",
    "elif d > 25 and d < 1000:\n",
    "    print(\"la dimension del asteroide es: \" + str(d) + \"mts\")\n",
    "    print(\"AUXILIO, EL ASTEROIDE ES MUY GRANDE, SOCORROOOOOO\")\n",
    "else:\n",
    "    print(\"No hay asteroides banda\")"
   ]
  }
 ],
 "metadata": {
  "interpreter": {
   "hash": "4f946df053fbf2b937619d3c5458e7af74262f9a954d8797ba0b27400bcafe06"
  },
  "kernelspec": {
   "display_name": "Python 3.8.12 64-bit",
   "language": "python",
   "name": "python3"
  },
  "language_info": {
   "codemirror_mode": {
    "name": "ipython",
    "version": 3
   },
   "file_extension": ".py",
   "mimetype": "text/x-python",
   "name": "python",
   "nbconvert_exporter": "python",
   "pygments_lexer": "ipython3",
   "version": "3.8.12"
  },
  "orig_nbformat": 4
 },
 "nbformat": 4,
 "nbformat_minor": 2
}
